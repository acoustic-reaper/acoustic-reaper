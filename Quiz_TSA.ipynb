{
  "nbformat": 4,
  "nbformat_minor": 0,
  "metadata": {
    "colab": {
      "provenance": []
    },
    "kernelspec": {
      "name": "python3",
      "display_name": "Python 3"
    },
    "language_info": {
      "name": "python"
    }
  },
  "cells": [
    {
      "cell_type": "code",
      "execution_count": 1,
      "metadata": {
        "id": "Xi7icVQCVmTI"
      },
      "outputs": [],
      "source": [
        "import pandas as pd, numpy as np, matplotlib.pyplot as plt\n",
        "from prophet import Prophet\n",
        "from statsmodels.tsa.stattools import adfuller\n",
        "df = pd.read_csv('https://github.com/HamoyeHQ/HDSC-Time-series-analysis-and-forecast/files/7768846/Time_series_analysis_and_forecast_DATASET.csv')\n",
        "df['FullDate'] = pd.to_datetime(df['FullDate'])\n",
        "df.set_index('FullDate', inplace = True)\n",
        "df = df.resample('D').sum()"
      ]
    },
    {
      "cell_type": "code",
      "source": [
        "plt.plot(df.index, df.ElecPrice)"
      ],
      "metadata": {
        "colab": {
          "base_uri": "https://localhost:8080/",
          "height": 447
        },
        "id": "kl6vKdUVp5OU",
        "outputId": "200c6e16-ce02-4609-ae11-b0667bc89258"
      },
      "execution_count": 2,
      "outputs": [
        {
          "output_type": "execute_result",
          "data": {
            "text/plain": [
              "[<matplotlib.lines.Line2D at 0x7c6e3dda0d00>]"
            ]
          },
          "metadata": {},
          "execution_count": 2
        },
        {
          "output_type": "display_data",
          "data": {
            "text/plain": [
              "<Figure size 640x480 with 1 Axes>"
            ],
            "image/png": "[encoded data removed]"
          },
          "metadata": {}
        }
      ]
    },
    {
      "cell_type": "markdown",
      "source": [
        "## P-value of SysLoad and Gasprice"
      ],
      "metadata": {
        "id": "RjF3h8pMqa0F"
      }
    },
    {
      "cell_type": "code",
      "source": [
        "print(adfuller(df['SysLoad'])[1], adfuller(df['GasPrice'])[1])"
      ],
      "metadata": {
        "colab": {
          "base_uri": "https://localhost:8080/"
        },
        "id": "1rfxBXoqqZs9",
        "outputId": "be9cb443-3232-477d-f07c-067dee2a63ce"
      },
      "execution_count": 3,
      "outputs": [
        {
          "output_type": "stream",
          "name": "stdout",
          "text": [
            "0.004253725504574063 0.04502721288462552\n"
          ]
        }
      ]
    },
    {
      "cell_type": "markdown",
      "source": [
        "## 10% and 5% critical values of GasPrice and ElecPrice of the resampled Data set"
      ],
      "metadata": {
        "id": "9uBclkjzqz2x"
      }
    },
    {
      "cell_type": "code",
      "source": [
        "print(adfuller(df['SysLoad'])[4], adfuller(df['GasPrice'])[4])"
      ],
      "metadata": {
        "id": "Ljhj4aE5Za6R",
        "colab": {
          "base_uri": "https://localhost:8080/"
        },
        "outputId": "828b832d-79e4-412f-8aff-cda6eb9110b1"
      },
      "execution_count": 4,
      "outputs": [
        {
          "output_type": "stream",
          "name": "stdout",
          "text": [
            "{'1%': -3.432070672988693, '5%': -2.8623002987378547, '10%': -2.567174716967499} {'1%': -3.4320693157877544, '5%': -2.8622996992165364, '10%': -2.5671743978048323}\n"
          ]
        }
      ]
    },
    {
      "cell_type": "markdown",
      "source": [
        "## MAPE Function"
      ],
      "metadata": {
        "id": "fpsQq-sbq-KV"
      }
    },
    {
      "cell_type": "code",
      "source": [
        "def mape(y, yhat):\n",
        "  sm = 0\n",
        "  for i in range(len(y)):\n",
        "    sm += (abs((y[i] - yhat[i]) / y[i]))\n",
        "  sm *= 100\n",
        "  sm /= (len(y))\n",
        "  return sm"
      ],
      "metadata": {
        "id": "9U0qck0srD8H"
      },
      "execution_count": 5,
      "outputs": []
    },
    {
      "cell_type": "markdown",
      "source": [
        "## Training Prophet Model"
      ],
      "metadata": {
        "id": "A4JifBPMrYLH"
      }
    },
    {
      "cell_type": "code",
      "source": [
        "df['ds'] = df.index\n",
        "df.reset_index(drop=True, inplace=True)\n",
        "df.rename(columns={\"ElecPrice\": \"y\"}, inplace = True)\n",
        "trainset = df[:2757]\n",
        "testset = df[2757:].reset_index(drop=True)\n",
        "model = Prophet().fit(trainset)\n",
        "forecast = model.predict(testset)"
      ],
      "metadata": {
        "colab": {
          "base_uri": "https://localhost:8080/"
        },
        "id": "3qoQxDH5rfir",
        "outputId": "8e38bca6-4d59-43f8-ff5a-ea8f3a76cf82"
      },
      "execution_count": 6,
      "outputs": [
        {
          "output_type": "stream",
          "name": "stderr",
          "text": [
            "INFO:prophet:Disabling daily seasonality. Run prophet with daily_seasonality=True to override this.\n",
            "DEBUG:cmdstanpy:input tempfile: /tmp/tmpf1jyftp6/a8ju1143.json\n",
            "DEBUG:cmdstanpy:input tempfile: /tmp/tmpf1jyftp6/07sw7ehn.json\n",
            "DEBUG:cmdstanpy:idx 0\n",
            "DEBUG:cmdstanpy:running CmdStan, num_threads: None\n",
            "DEBUG:cmdstanpy:CmdStan args: ['/usr/local/lib/python3.10/dist-packages/prophet/stan_model/prophet_model.bin', 'random', 'seed=73235', 'data', 'file=/tmp/tmpf1jyftp6/a8ju1143.json', 'init=/tmp/tmpf1jyftp6/07sw7ehn.json', 'output', 'file=/tmp/tmpf1jyftp6/prophet_modelv0qbxe1z/prophet_model-20230730120649.csv', 'method=optimize', 'algorithm=lbfgs', 'iter=10000']\n",
            "12:06:49 - cmdstanpy - INFO - Chain [1] start processing\n",
            "INFO:cmdstanpy:Chain [1] start processing\n",
            "12:06:49 - cmdstanpy - INFO - Chain [1] done processing\n",
            "INFO:cmdstanpy:Chain [1] done processing\n"
          ]
        },
        {
          "output_type": "stream",
          "name": "stdout",
          "text": [
            "544.0932873825625\n"
          ]
        }
      ]
    },
    {
      "cell_type": "markdown",
      "source": [
        "## MAPE Value"
      ],
      "metadata": {
        "id": "SVDNeVb3tNYV"
      }
    },
    {
      "cell_type": "code",
      "source": [
        "print(mape( testset['y'].values, forecast['yhat'].values))"
      ],
      "metadata": {
        "colab": {
          "base_uri": "https://localhost:8080/"
        },
        "id": "TsY8xFAYsdwW",
        "outputId": "6b25b734-ccb1-473f-ec5b-2630b8b178da"
      },
      "execution_count": 7,
      "outputs": [
        {
          "output_type": "stream",
          "name": "stdout",
          "text": [
            "544.0932873825625\n"
          ]
        }
      ]
    },
    {
      "cell_type": "markdown",
      "source": [
        "## RMSE Function"
      ],
      "metadata": {
        "id": "Me_DGDtrsg2b"
      }
    },
    {
      "cell_type": "code",
      "source": [
        "def rmse(y, yhat):\n",
        "  sm = 0\n",
        "  for i in range(len(y)):\n",
        "    sm += (y[i] - yhat[i]) * (y[i] - yhat[i])\n",
        "  sm /= (len(y))\n",
        "  return sm ** (0.5)"
      ],
      "metadata": {
        "id": "e1kMDNjysmhg"
      },
      "execution_count": 8,
      "outputs": []
    },
    {
      "cell_type": "markdown",
      "source": [
        "## RMSE Value"
      ],
      "metadata": {
        "id": "3lNTBb0_svvO"
      }
    },
    {
      "cell_type": "code",
      "source": [
        "print(rmse(testset['y'].values, forecast['yhat'].values))"
      ],
      "metadata": {
        "colab": {
          "base_uri": "https://localhost:8080/"
        },
        "id": "QMiNhIWzspJB",
        "outputId": "37b6ea93-dfae-4a2d-b914-9f3cd69941e2"
      },
      "execution_count": 9,
      "outputs": [
        {
          "output_type": "stream",
          "name": "stdout",
          "text": [
            "3207.4615275657516\n"
          ]
        }
      ]
    },
    {
      "cell_type": "markdown",
      "source": [
        "## Training model for Q17-19"
      ],
      "metadata": {
        "id": "l1OIyEoRs2K9"
      }
    },
    {
      "cell_type": "code",
      "source": [
        "trainset2 = df[:2757]\n",
        "testset2 = df[2757:].reset_index(drop = True)\n",
        "m2 = Prophet()\n",
        "m2.add_regressor('Tmax', standardize = False)\n",
        "m2.add_regressor('SysLoad', standardize = False)\n",
        "m2.add_regressor('GasPrice', standardize = False)\n",
        "m2.fit(trainset2)\n",
        "ft = m2.predict(testset2)"
      ],
      "metadata": {
        "id": "6HeTLAuMdlLs",
        "colab": {
          "base_uri": "https://localhost:8080/"
        },
        "outputId": "3f9cfa75-27bc-4827-d007-7ec181508bc6"
      },
      "execution_count": 10,
      "outputs": [
        {
          "output_type": "stream",
          "name": "stderr",
          "text": [
            "INFO:prophet:Disabling daily seasonality. Run prophet with daily_seasonality=True to override this.\n",
            "DEBUG:cmdstanpy:input tempfile: /tmp/tmpf1jyftp6/27mwfefq.json\n",
            "DEBUG:cmdstanpy:input tempfile: /tmp/tmpf1jyftp6/ubiqg6ft.json\n",
            "DEBUG:cmdstanpy:idx 0\n",
            "DEBUG:cmdstanpy:running CmdStan, num_threads: None\n",
            "DEBUG:cmdstanpy:CmdStan args: ['/usr/local/lib/python3.10/dist-packages/prophet/stan_model/prophet_model.bin', 'random', 'seed=93513', 'data', 'file=/tmp/tmpf1jyftp6/27mwfefq.json', 'init=/tmp/tmpf1jyftp6/ubiqg6ft.json', 'output', 'file=/tmp/tmpf1jyftp6/prophet_modelvu887i0_/prophet_model-20230730120954.csv', 'method=optimize', 'algorithm=lbfgs', 'iter=10000']\n",
            "12:09:54 - cmdstanpy - INFO - Chain [1] start processing\n",
            "INFO:cmdstanpy:Chain [1] start processing\n",
            "12:09:54 - cmdstanpy - INFO - Chain [1] done processing\n",
            "INFO:cmdstanpy:Chain [1] done processing\n",
            "12:09:54 - cmdstanpy - ERROR - Chain [1] error: error during processing Operation not permitted\n",
            "ERROR:cmdstanpy:Chain [1] error: error during processing Operation not permitted\n",
            "WARNING:prophet.models:Optimization terminated abnormally. Falling back to Newton.\n",
            "DEBUG:cmdstanpy:input tempfile: /tmp/tmpf1jyftp6/zbe_zbe4.json\n",
            "DEBUG:cmdstanpy:input tempfile: /tmp/tmpf1jyftp6/fypjlfu1.json\n",
            "DEBUG:cmdstanpy:idx 0\n",
            "DEBUG:cmdstanpy:running CmdStan, num_threads: None\n",
            "DEBUG:cmdstanpy:CmdStan args: ['/usr/local/lib/python3.10/dist-packages/prophet/stan_model/prophet_model.bin', 'random', 'seed=53335', 'data', 'file=/tmp/tmpf1jyftp6/zbe_zbe4.json', 'init=/tmp/tmpf1jyftp6/fypjlfu1.json', 'output', 'file=/tmp/tmpf1jyftp6/prophet_model0e8ykq7w/prophet_model-20230730120954.csv', 'method=optimize', 'algorithm=newton', 'iter=10000']\n",
            "12:09:54 - cmdstanpy - INFO - Chain [1] start processing\n",
            "INFO:cmdstanpy:Chain [1] start processing\n",
            "12:10:21 - cmdstanpy - INFO - Chain [1] done processing\n",
            "INFO:cmdstanpy:Chain [1] done processing\n"
          ]
        }
      ]
    },
    {
      "cell_type": "markdown",
      "source": [
        "## MAPE Value"
      ],
      "metadata": {
        "id": "Blhu3scQtKCH"
      }
    },
    {
      "cell_type": "code",
      "source": [
        "print(mape(testset['y'].values, ft['yhat'].values))"
      ],
      "metadata": {
        "colab": {
          "base_uri": "https://localhost:8080/"
        },
        "id": "kjl_eV63tP6q",
        "outputId": "c6577139-b3f8-4b19-89ed-0429f061d132"
      },
      "execution_count": 11,
      "outputs": [
        {
          "output_type": "stream",
          "name": "stdout",
          "text": [
            "241.56626973713495\n"
          ]
        }
      ]
    },
    {
      "cell_type": "markdown",
      "source": [
        "## RMSE Value"
      ],
      "metadata": {
        "id": "Y41EqFiJtYDG"
      }
    },
    {
      "cell_type": "code",
      "source": [
        "print(rmse(testset['y'].values, ft['yhat'].values))"
      ],
      "metadata": {
        "id": "ZipnzuJ2bIxF",
        "colab": {
          "base_uri": "https://localhost:8080/"
        },
        "outputId": "49c30cfc-17f2-4ac8-c8cc-cfc3f4f8d4fd"
      },
      "execution_count": 12,
      "outputs": [
        {
          "output_type": "stream",
          "name": "stdout",
          "text": [
            "2718.3714800069556\n"
          ]
        }
      ]
    },
    {
      "cell_type": "markdown",
      "source": [
        "## Training Model for Q20"
      ],
      "metadata": {
        "id": "0-Wjq6ZEtg8U"
      }
    },
    {
      "cell_type": "code",
      "source": [
        "m3 = Prophet()\n",
        "m3.add_regressor('SysLoad', standardize = False)\n",
        "m3.add_regressor('GasPrice', standardize = False)\n",
        "m3.fit(trainset2)\n",
        "ft3 = m3.predict(testset2)"
      ],
      "metadata": {
        "id": "kNR3VCv7jvPI",
        "colab": {
          "base_uri": "https://localhost:8080/"
        },
        "outputId": "bb6acf8b-ff01-4993-e883-bdfb368ac4b1"
      },
      "execution_count": 13,
      "outputs": [
        {
          "output_type": "stream",
          "name": "stderr",
          "text": [
            "INFO:prophet:Disabling daily seasonality. Run prophet with daily_seasonality=True to override this.\n",
            "DEBUG:cmdstanpy:input tempfile: /tmp/tmpf1jyftp6/78i0wajm.json\n",
            "DEBUG:cmdstanpy:input tempfile: /tmp/tmpf1jyftp6/i213mp8k.json\n",
            "DEBUG:cmdstanpy:idx 0\n",
            "DEBUG:cmdstanpy:running CmdStan, num_threads: None\n",
            "DEBUG:cmdstanpy:CmdStan args: ['/usr/local/lib/python3.10/dist-packages/prophet/stan_model/prophet_model.bin', 'random', 'seed=18705', 'data', 'file=/tmp/tmpf1jyftp6/78i0wajm.json', 'init=/tmp/tmpf1jyftp6/i213mp8k.json', 'output', 'file=/tmp/tmpf1jyftp6/prophet_model21wvna5w/prophet_model-20230730121250.csv', 'method=optimize', 'algorithm=lbfgs', 'iter=10000']\n",
            "12:12:50 - cmdstanpy - INFO - Chain [1] start processing\n",
            "INFO:cmdstanpy:Chain [1] start processing\n",
            "12:12:50 - cmdstanpy - INFO - Chain [1] done processing\n",
            "INFO:cmdstanpy:Chain [1] done processing\n"
          ]
        }
      ]
    },
    {
      "cell_type": "markdown",
      "source": [
        "## MAPE Value"
      ],
      "metadata": {
        "id": "MFm5Sia1twL-"
      }
    },
    {
      "cell_type": "code",
      "source": [
        "print(mape(testset['y'].values, ft3['yhat'].values))"
      ],
      "metadata": {
        "id": "0M_966zCkYHy",
        "colab": {
          "base_uri": "https://localhost:8080/"
        },
        "outputId": "7e52bf92-f479-4f74-ae37-08e797c5d51b"
      },
      "execution_count": 14,
      "outputs": [
        {
          "output_type": "stream",
          "name": "stdout",
          "text": [
            "257.8153321184542\n"
          ]
        }
      ]
    }
  ]
}